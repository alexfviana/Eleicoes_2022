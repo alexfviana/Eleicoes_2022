{
 "cells": [
  {
   "cell_type": "code",
   "execution_count": 1,
   "id": "fe933a29",
   "metadata": {},
   "outputs": [],
   "source": [
    "# importando as bibliotecas\n",
    "\n",
    "import pandas as pd\n",
    "import requests\n",
    "from bs4 import BeautifulSoup"
   ]
  },
  {
   "cell_type": "code",
   "execution_count": 2,
   "id": "63214baf",
   "metadata": {},
   "outputs": [],
   "source": [
    "# URL para raspagem do IDH\n",
    "url = 'https://www.undp.org/pt/brazil/idhm-munic%C3%ADpios-2010'"
   ]
  },
  {
   "cell_type": "code",
   "execution_count": 3,
   "id": "ad6ab9c1",
   "metadata": {},
   "outputs": [],
   "source": [
    "# Função para buscar o soup\n",
    "\n",
    "def get_soup(url):\n",
    "    \n",
    "    # get retorno o objeto com alguns atributos, como content e status code\n",
    "    html = requests.get(url)\n",
    "    \n",
    "    # Verificar se houve falha na requisição (Status code == 200 significa que foi bem sucedida)\n",
    "    if html.status_code != 200:\n",
    "        print('Falha na requisição - status code = 200')\n",
    "    else:    \n",
    "        # Passa o conteúdo da página\n",
    "        html_content = html.content\n",
    "    \n",
    "    # Parsear o conteúdo buscado, deixando-o mais estruturado de acordo com as tags de HTML\n",
    "    soup = BeautifulSoup(html_content, 'html.parser')\n",
    "    \n",
    "    return soup"
   ]
  },
  {
   "cell_type": "code",
   "execution_count": 4,
   "id": "82f42fea",
   "metadata": {},
   "outputs": [],
   "source": [
    "# Buscar o soup\n",
    "soup = get_soup(url)"
   ]
  },
  {
   "cell_type": "code",
   "execution_count": 5,
   "id": "d0090b27",
   "metadata": {},
   "outputs": [],
   "source": [
    "# Dividindo a classe da tabela em listas estruturadas\n",
    "s = soup.find('div', class_='coh-container m-content coh-wysiwyg')\n",
    "content = s.find_all('tr')"
   ]
  },
  {
   "cell_type": "code",
   "execution_count": 6,
   "id": "208793a5",
   "metadata": {},
   "outputs": [
    {
     "data": {
      "text/plain": [
       "<tr class=\"tableizer-firstrow\"><th style=\"width: 60px;\">Ranking IDHM 2010</th>\n",
       "<th>Município</th>\n",
       "<th style=\"width: 80px;\">IDHM 2010</th>\n",
       "<th style=\"width: 80px;\">IDHM<br/>\n",
       "Renda<br/>\n",
       "2010</th>\n",
       "<th style=\"width: 80px;\">IDHM Longevidade 2010</th>\n",
       "<th style=\"width: 80px;\">IDHM Educação 2010</th>\n",
       "</tr>"
      ]
     },
     "execution_count": 6,
     "metadata": {},
     "output_type": "execute_result"
    }
   ],
   "source": [
    "# Cabeçalho\n",
    "content[0]"
   ]
  },
  {
   "cell_type": "code",
   "execution_count": 7,
   "id": "de489a74",
   "metadata": {},
   "outputs": [],
   "source": [
    "# Valores da Tabela\n",
    "content_table = content[1:]"
   ]
  },
  {
   "cell_type": "code",
   "execution_count": 8,
   "id": "d8224e12",
   "metadata": {},
   "outputs": [
    {
     "data": {
      "text/plain": [
       "['<tr>',\n",
       " '1 º</td>\\n',\n",
       " 'São Caetano do Sul (SP)</td>\\n',\n",
       " '0,862</td>\\n',\n",
       " '0,891</td>\\n',\n",
       " '0,887</td>\\n',\n",
       " '0,811</td>\\n</tr>']"
      ]
     },
     "execution_count": 8,
     "metadata": {},
     "output_type": "execute_result"
    }
   ],
   "source": [
    "x = str(content_table[0]).split('<td>')\n",
    "x"
   ]
  },
  {
   "cell_type": "code",
   "execution_count": 9,
   "id": "918b74ff",
   "metadata": {},
   "outputs": [
    {
     "data": {
      "text/plain": [
       "['1 º', 'São Caetano do Sul', 'SP', '0,862', '0,891', '0,887', '0,811']"
      ]
     },
     "execution_count": 9,
     "metadata": {},
     "output_type": "execute_result"
    }
   ],
   "source": [
    "# Construindo a linha do DataFrame\n",
    "[x[1][:-6], x[2][:-11], x[2][-9:-7], x[3][:-6], x[4][:-6], x[5][:-6], x[6][:-11]]"
   ]
  },
  {
   "cell_type": "code",
   "execution_count": 10,
   "id": "146292f0",
   "metadata": {},
   "outputs": [],
   "source": [
    "# Definindo o nome das colunas\n",
    "colunas = ['Ranking IDHM 2010', 'Município', 'UF', 'IDHM 2010', 'IDHM Renda', 'IDHM Longevidade', 'IDHM Educação']"
   ]
  },
  {
   "cell_type": "code",
   "execution_count": 11,
   "id": "44be39d7",
   "metadata": {},
   "outputs": [],
   "source": [
    "# Construindo o Dataframe\n",
    "lista = []\n",
    "for i in range (len(content_table)):\n",
    "    x = str(content_table[i]).split('<td>')\n",
    "    line = [x[1][:-6], x[2][:-11], x[2][-9:-7], x[3][:-6], x[4][:-6], x[5][:-6], x[6][:-11]]\n",
    "    lista.append(line)\n",
    "df_idh = pd.DataFrame(lista)\n",
    "df_idh.columns = colunas"
   ]
  },
  {
   "cell_type": "code",
   "execution_count": 12,
   "id": "a1ea4974",
   "metadata": {},
   "outputs": [
    {
     "data": {
      "text/html": [
       "<div>\n",
       "<style scoped>\n",
       "    .dataframe tbody tr th:only-of-type {\n",
       "        vertical-align: middle;\n",
       "    }\n",
       "\n",
       "    .dataframe tbody tr th {\n",
       "        vertical-align: top;\n",
       "    }\n",
       "\n",
       "    .dataframe thead th {\n",
       "        text-align: right;\n",
       "    }\n",
       "</style>\n",
       "<table border=\"1\" class=\"dataframe\">\n",
       "  <thead>\n",
       "    <tr style=\"text-align: right;\">\n",
       "      <th></th>\n",
       "      <th>Ranking IDHM 2010</th>\n",
       "      <th>Município</th>\n",
       "      <th>UF</th>\n",
       "      <th>IDHM 2010</th>\n",
       "      <th>IDHM Renda</th>\n",
       "      <th>IDHM Longevidade</th>\n",
       "      <th>IDHM Educação</th>\n",
       "    </tr>\n",
       "  </thead>\n",
       "  <tbody>\n",
       "    <tr>\n",
       "      <th>0</th>\n",
       "      <td>1 º</td>\n",
       "      <td>São Caetano do Sul</td>\n",
       "      <td>SP</td>\n",
       "      <td>0,862</td>\n",
       "      <td>0,891</td>\n",
       "      <td>0,887</td>\n",
       "      <td>0,811</td>\n",
       "    </tr>\n",
       "    <tr>\n",
       "      <th>1</th>\n",
       "      <td>2 º</td>\n",
       "      <td>Águas de São Pedro</td>\n",
       "      <td>SP</td>\n",
       "      <td>0,854</td>\n",
       "      <td>0,849</td>\n",
       "      <td>0,890</td>\n",
       "      <td>0,825</td>\n",
       "    </tr>\n",
       "    <tr>\n",
       "      <th>2</th>\n",
       "      <td>3 º</td>\n",
       "      <td>Florianópolis</td>\n",
       "      <td>SC</td>\n",
       "      <td>0,847</td>\n",
       "      <td>0,870</td>\n",
       "      <td>0,873</td>\n",
       "      <td>0,800</td>\n",
       "    </tr>\n",
       "    <tr>\n",
       "      <th>3</th>\n",
       "      <td>4 º</td>\n",
       "      <td>Balneário Camboriú</td>\n",
       "      <td>SC</td>\n",
       "      <td>0,845</td>\n",
       "      <td>0,854</td>\n",
       "      <td>0,894</td>\n",
       "      <td>0,789</td>\n",
       "    </tr>\n",
       "    <tr>\n",
       "      <th>4</th>\n",
       "      <td>4 º</td>\n",
       "      <td>Vitória</td>\n",
       "      <td>ES</td>\n",
       "      <td>0,845</td>\n",
       "      <td>0,876</td>\n",
       "      <td>0,855</td>\n",
       "      <td>0,805</td>\n",
       "    </tr>\n",
       "    <tr>\n",
       "      <th>...</th>\n",
       "      <td>...</td>\n",
       "      <td>...</td>\n",
       "      <td>...</td>\n",
       "      <td>...</td>\n",
       "      <td>...</td>\n",
       "      <td>...</td>\n",
       "      <td>...</td>\n",
       "    </tr>\n",
       "    <tr>\n",
       "      <th>5560</th>\n",
       "      <td>5560 º</td>\n",
       "      <td>Uiramutã</td>\n",
       "      <td>RR</td>\n",
       "      <td>0,453</td>\n",
       "      <td>0,439</td>\n",
       "      <td>0,766</td>\n",
       "      <td>0,276</td>\n",
       "    </tr>\n",
       "    <tr>\n",
       "      <th>5561</th>\n",
       "      <td>5562 º</td>\n",
       "      <td>Marajá do Sena</td>\n",
       "      <td>MA</td>\n",
       "      <td>0,452</td>\n",
       "      <td>0,400</td>\n",
       "      <td>0,774</td>\n",
       "      <td>0,299</td>\n",
       "    </tr>\n",
       "    <tr>\n",
       "      <th>5562</th>\n",
       "      <td>5563 º</td>\n",
       "      <td>Atalaia do Norte</td>\n",
       "      <td>AM</td>\n",
       "      <td>0,450</td>\n",
       "      <td>0,481</td>\n",
       "      <td>0,733</td>\n",
       "      <td>0,259</td>\n",
       "    </tr>\n",
       "    <tr>\n",
       "      <th>5563</th>\n",
       "      <td>5564 º</td>\n",
       "      <td>Fernando Falcão</td>\n",
       "      <td>MA</td>\n",
       "      <td>0,443</td>\n",
       "      <td>0,417</td>\n",
       "      <td>0,728</td>\n",
       "      <td>0,286</td>\n",
       "    </tr>\n",
       "    <tr>\n",
       "      <th>5564</th>\n",
       "      <td>5565 º</td>\n",
       "      <td>Melgaço</td>\n",
       "      <td>PA</td>\n",
       "      <td>0,418</td>\n",
       "      <td>0,454</td>\n",
       "      <td>0,776</td>\n",
       "      <td>0,207</td>\n",
       "    </tr>\n",
       "  </tbody>\n",
       "</table>\n",
       "<p>5565 rows × 7 columns</p>\n",
       "</div>"
      ],
      "text/plain": [
       "     Ranking IDHM 2010           Município  UF IDHM 2010 IDHM Renda  \\\n",
       "0                  1 º  São Caetano do Sul  SP     0,862      0,891   \n",
       "1                  2 º  Águas de São Pedro  SP     0,854      0,849   \n",
       "2                  3 º       Florianópolis  SC     0,847      0,870   \n",
       "3                  4 º  Balneário Camboriú  SC     0,845      0,854   \n",
       "4                  4 º             Vitória  ES     0,845      0,876   \n",
       "...                ...                 ...  ..       ...        ...   \n",
       "5560            5560 º            Uiramutã  RR     0,453      0,439   \n",
       "5561            5562 º      Marajá do Sena  MA     0,452      0,400   \n",
       "5562            5563 º    Atalaia do Norte  AM     0,450      0,481   \n",
       "5563            5564 º     Fernando Falcão  MA     0,443      0,417   \n",
       "5564            5565 º             Melgaço  PA     0,418      0,454   \n",
       "\n",
       "     IDHM Longevidade IDHM Educação  \n",
       "0               0,887         0,811  \n",
       "1               0,890         0,825  \n",
       "2               0,873         0,800  \n",
       "3               0,894         0,789  \n",
       "4               0,855         0,805  \n",
       "...               ...           ...  \n",
       "5560            0,766         0,276  \n",
       "5561            0,774         0,299  \n",
       "5562            0,733         0,259  \n",
       "5563            0,728         0,286  \n",
       "5564            0,776         0,207  \n",
       "\n",
       "[5565 rows x 7 columns]"
      ]
     },
     "execution_count": 12,
     "metadata": {},
     "output_type": "execute_result"
    }
   ],
   "source": [
    "df_idh"
   ]
  },
  {
   "cell_type": "code",
   "execution_count": 13,
   "id": "8cf62b46",
   "metadata": {},
   "outputs": [],
   "source": [
    "df_idh.to_csv('municípios_idh.csv', index=False)"
   ]
  }
 ],
 "metadata": {
  "kernelspec": {
   "display_name": "Python 3",
   "language": "python",
   "name": "python3"
  },
  "language_info": {
   "codemirror_mode": {
    "name": "ipython",
    "version": 3
   },
   "file_extension": ".py",
   "mimetype": "text/x-python",
   "name": "python",
   "nbconvert_exporter": "python",
   "pygments_lexer": "ipython3",
   "version": "3.9.13"
  },
  "varInspector": {
   "cols": {
    "lenName": 16,
    "lenType": 16,
    "lenVar": 40
   },
   "kernels_config": {
    "python": {
     "delete_cmd_postfix": "",
     "delete_cmd_prefix": "del ",
     "library": "var_list.py",
     "varRefreshCmd": "print(var_dic_list())"
    },
    "r": {
     "delete_cmd_postfix": ") ",
     "delete_cmd_prefix": "rm(",
     "library": "var_list.r",
     "varRefreshCmd": "cat(var_dic_list()) "
    }
   },
   "types_to_exclude": [
    "module",
    "function",
    "builtin_function_or_method",
    "instance",
    "_Feature"
   ],
   "window_display": false
  }
 },
 "nbformat": 4,
 "nbformat_minor": 5
}
